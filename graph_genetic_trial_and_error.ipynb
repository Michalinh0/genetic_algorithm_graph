{
  "nbformat": 4,
  "nbformat_minor": 0,
  "metadata": {
    "colab": {
      "provenance": [],
      "authorship_tag": "ABX9TyOfgyyq6zpTC0meFqf5zfFq",
      "include_colab_link": true
    },
    "kernelspec": {
      "name": "python3",
      "display_name": "Python 3"
    },
    "language_info": {
      "name": "python"
    }
  },
  "cells": [
    {
      "cell_type": "markdown",
      "metadata": {
        "id": "view-in-github",
        "colab_type": "text"
      },
      "source": [
        "<a href=\"https://colab.research.google.com/github/Michalinh0/genetic_algorithm_graph/blob/main/graph_genetic_trial_and_error.ipynb\" target=\"_parent\"><img src=\"https://colab.research.google.com/assets/colab-badge.svg\" alt=\"Open In Colab\"/></a>"
      ]
    },
    {
      "cell_type": "code",
      "execution_count": 1,
      "metadata": {
        "colab": {
          "base_uri": "https://localhost:8080/"
        },
        "id": "eCqczpWUo9is",
        "outputId": "b5799f9e-3747-4585-aa2e-ec424d00e968"
      },
      "outputs": [
        {
          "output_type": "stream",
          "name": "stdout",
          "text": [
            "Looking in indexes: https://pypi.org/simple, https://us-python.pkg.dev/colab-wheels/public/simple/\n",
            "Requirement already satisfied: pygad in /usr/local/lib/python3.8/dist-packages (2.18.1)\n",
            "Requirement already satisfied: matplotlib in /usr/local/lib/python3.8/dist-packages (from pygad) (3.2.2)\n",
            "Requirement already satisfied: numpy in /usr/local/lib/python3.8/dist-packages (from pygad) (1.21.6)\n",
            "Requirement already satisfied: python-dateutil>=2.1 in /usr/local/lib/python3.8/dist-packages (from matplotlib->pygad) (2.8.2)\n",
            "Requirement already satisfied: kiwisolver>=1.0.1 in /usr/local/lib/python3.8/dist-packages (from matplotlib->pygad) (1.4.4)\n",
            "Requirement already satisfied: cycler>=0.10 in /usr/local/lib/python3.8/dist-packages (from matplotlib->pygad) (0.11.0)\n",
            "Requirement already satisfied: pyparsing!=2.0.4,!=2.1.2,!=2.1.6,>=2.0.1 in /usr/local/lib/python3.8/dist-packages (from matplotlib->pygad) (3.0.9)\n",
            "Requirement already satisfied: six>=1.5 in /usr/local/lib/python3.8/dist-packages (from python-dateutil>=2.1->matplotlib->pygad) (1.15.0)\n",
            "fatal: destination path 'genetic_algorithm_graph' already exists and is not an empty directory.\n"
          ]
        }
      ],
      "source": [
        "!pip install pygad\n",
        "import pygad\n",
        "!git clone https://github.com/Michalinh0/genetic_algorithm_graph.git\n",
        "import matplotlib.pyplot as plt"
      ]
    },
    {
      "cell_type": "code",
      "source": [
        "#with open('genetic_algorithm_graph/graph.txt') as file:\n",
        "#    lines = file.readlines()\n",
        "with open('genetic_algorithm_graph/graph2.txt') as file:\n",
        "    lines = file.readlines()\n",
        "#with open('genetic_algorithm_graph/graph3.txt') as file:\n",
        "#    lines = file.readlines()\n",
        "lines = [line.strip() for line in lines]\n",
        "print(lines)"
      ],
      "metadata": {
        "colab": {
          "base_uri": "https://localhost:8080/"
        },
        "id": "W1hGyDVYo-Qb",
        "outputId": "4a6c900f-c99d-4ffd-aabc-97af7dff380a"
      },
      "execution_count": 2,
      "outputs": [
        {
          "output_type": "stream",
          "name": "stdout",
          "text": [
            "['7', '1 2 1 3 2 4 2 5 3 6 3 7']\n"
          ]
        }
      ]
    },
    {
      "cell_type": "code",
      "source": [
        "#lines[0] = '11'\n",
        "#lines[1] = '11 1 8 1 9 1 10 1 11 2 8 2 9 2 10 2 11 3 8 3 9 3 10 3 11 4 8 4 9 4 10 4 11 5 8 5 9 5 10 5 11 6 8 6 9 6 10 6 11 7 8 7 9 7 10 7 11'"
      ],
      "metadata": {
        "id": "niAaWjsPsxC2"
      },
      "execution_count": 3,
      "outputs": []
    },
    {
      "cell_type": "code",
      "source": [
        "vertices_count = int(lines[0])\n",
        "lines[1] = lines[1].split(\" \")\n",
        "print(vertices_count)\n",
        "print(lines)\n",
        "edges = list()\n",
        "edges_count = int(len(lines[1]) / 2)\n",
        "for i in range(edges_count):\n",
        "  edges.append((lines[1][2*i] , lines[1][2*i + 1]))\n",
        "print(edges)"
      ],
      "metadata": {
        "colab": {
          "base_uri": "https://localhost:8080/"
        },
        "id": "8C761qtto_6B",
        "outputId": "2bd3ebb8-f17b-462b-d0a9-8b255dbba93e"
      },
      "execution_count": 4,
      "outputs": [
        {
          "output_type": "stream",
          "name": "stdout",
          "text": [
            "7\n",
            "['7', ['1', '2', '1', '3', '2', '4', '2', '5', '3', '6', '3', '7']]\n",
            "[('1', '2'), ('1', '3'), ('2', '4'), ('2', '5'), ('3', '6'), ('3', '7')]\n"
          ]
        }
      ]
    },
    {
      "cell_type": "code",
      "source": [
        "#vertices_count = 20\n",
        "#edges = [(11, 7),  (5, 9),  (17, 3),  (7, 8),  (19, 18),  (20, 5),  (15, 4),  (5, 14),  (17, 19),  (17, 15),  (6, 5),  (11, 6),  (8, 14),  (11, 4),  (14, 7),  (11, 17),  (4, 20),  (10, 14),  (18, 3),  (2, 3),]\n",
        "#edges_count = len(edges)"
      ],
      "metadata": {
        "id": "ojb9gshWzCA7"
      },
      "execution_count": 5,
      "outputs": []
    },
    {
      "cell_type": "code",
      "source": [
        "def onsegment(a,b,c):\n",
        "  return b[0] <= max (a[0] , c[0]) and b[0] >= min(a[0] , c[0]) and b[1] <= max(a[1] , c[1]) and b[1] >= min(a[1] , c[1])"
      ],
      "metadata": {
        "id": "xvgNA2n_rSHi"
      },
      "execution_count": 6,
      "outputs": []
    },
    {
      "cell_type": "code",
      "source": [
        "def orientation(a,b,c):\n",
        "  val = (float(b[1] - a[1]) * (c[0] - b[0])) - (float(b[0] - a[0]) * (c[1] - b[1]))\n",
        "\n",
        "  #print(val)\n",
        "\n",
        "  if (val < 0):\n",
        "    return -1\n",
        "  elif (val > 0):\n",
        "    return 1\n",
        "  else:\n",
        "    return 0"
      ],
      "metadata": {
        "id": "YhVlHSt7rKba"
      },
      "execution_count": 7,
      "outputs": []
    },
    {
      "cell_type": "code",
      "source": [
        "def intersect(p1,q1,p2,q2):\n",
        "  #print(\"segment 1 : \", p1 , q1 ,\"segment 2 : \", p2 , q2)\n",
        "  if(p1 == p2 or p1 == q2 or q1 == p2 or q1 == q2):\n",
        "    return False\n",
        "  #print(\"Check orientations\")\n",
        "  o1 = orientation(p1, q1, p2)\n",
        "  o2 = orientation(p1, q1, q2)\n",
        "  o3 = orientation(p2, q2, p1)\n",
        "  o4 = orientation(p2, q2, q1)\n",
        "\n",
        "  if(o1 != o2 and o3 != o4):\n",
        "    return True\n",
        "  if ((o1 == 0) and onsegment(p1, p2, q1)):\n",
        "    return True\n",
        "  if ((o2 == 0) and onsegment(p1, q2, q1)):\n",
        "    return True\n",
        "  if ((o3 == 0) and onsegment(p2, p1, q2)):\n",
        "    return True\n",
        "  if ((o4 == 0) and onsegment(p2, q1, q2)):\n",
        "    return True\n",
        "  return False"
      ],
      "metadata": {
        "id": "ciW45pqErEJO"
      },
      "execution_count": 8,
      "outputs": []
    },
    {
      "cell_type": "code",
      "source": [
        "def fitness(solution, solution_idx):\n",
        "  fitness = 0\n",
        "  for i in range(vertices_count):\n",
        "    for j in range(vertices_count):\n",
        "      if i == j:\n",
        "        continue\n",
        "      if solution[2*i] == solution[2*j] and solution[2*i + 1] == solution[2*j + 1]:\n",
        "        return -999999\n",
        "  i = 0\n",
        "  for edge in edges:\n",
        "    for j in range (i,len(edges)):\n",
        "      edge2 = edges[j]\n",
        "      if edge == edge2:\n",
        "        continue\n",
        "      #print(edge , edge2)\n",
        "      ver1 = int(edge[0]) - 1\n",
        "      p1 = (solution[2*ver1] , solution[2*ver1 + 1])\n",
        "      ver2 = int(edge[1]) - 1\n",
        "      q1 = (solution[2*ver2] , solution[2*ver2 + 1])\n",
        "      ver3 = int(edge2[0]) - 1\n",
        "      p2 = (solution[2*ver3] , solution[2*ver3 + 1])\n",
        "      ver4 = int(edge2[1]) - 1\n",
        "      q2 = (solution[2*ver4] , solution[2*ver4 + 1])\n",
        "      if(intersect(p1,q1,p2,q2)):\n",
        "        #print(\"These intersect :\",edge , edge2)\n",
        "        fitness -= 1\n",
        "    i += 1\n",
        "  return fitness"
      ],
      "metadata": {
        "id": "BOwgzmoLpKQR"
      },
      "execution_count": 9,
      "outputs": []
    },
    {
      "cell_type": "code",
      "source": [
        "fitness_function = fitness\n",
        "\n",
        "num_generations = 1000\n",
        "num_parents_mating = 128\n",
        "\n",
        "sol_per_pop = 128\n",
        "num_genes = 2*vertices_count\n",
        "\n",
        "init_range_low = 0\n",
        "init_range_high = 100\n",
        "\n",
        "random_mutation_min_val= -20\n",
        "random_mutation_max_val= 20\n",
        "\n",
        "gene_type=int\n",
        "\n",
        "parent_selection_type = \"rws\"\n",
        "keep_parents = 1\n",
        "\n",
        "crossover_type = \"two_points\"\n",
        "\n",
        "mutation_type = \"random\"\n",
        "mutation_percent_genes=50"
      ],
      "metadata": {
        "id": "8QeNZkzGt2jh"
      },
      "execution_count": 10,
      "outputs": []
    },
    {
      "cell_type": "code",
      "source": [
        "ga_instance = pygad.GA(num_generations=num_generations,\n",
        "                       num_parents_mating=num_parents_mating,\n",
        "                       fitness_func=fitness_function,\n",
        "                       sol_per_pop=sol_per_pop,\n",
        "                       num_genes=num_genes,\n",
        "                       parent_selection_type=parent_selection_type,\n",
        "                       keep_parents=keep_parents,\n",
        "                       crossover_type=crossover_type,\n",
        "                       mutation_type=mutation_type,\n",
        "                       mutation_percent_genes=mutation_percent_genes,\n",
        "                       gene_type=gene_type,\n",
        "                       init_range_low=init_range_low,\n",
        "                       init_range_high=init_range_high,\n",
        "                       random_mutation_min_val=random_mutation_min_val,\n",
        "                       random_mutation_max_val=random_mutation_max_val,\n",
        "                       stop_criteria=\"reach_0\")\n",
        "\n",
        "ga_instance.run()"
      ],
      "metadata": {
        "id": "B6hPR-n3t6hj"
      },
      "execution_count": 11,
      "outputs": []
    },
    {
      "cell_type": "code",
      "source": [
        "solution, solution_fitness, solution_idx = ga_instance.best_solution()\n",
        "x = list()\n",
        "y = list()\n",
        "\n",
        "for i in range(vertices_count):\n",
        "  x.append(solution[2*i])\n",
        "  y.append(solution[2*i + 1])\n",
        "  \n",
        "print(solution , solution_fitness)\n",
        "plt.scatter(x, y)\n",
        "\n",
        "for edge in edges:\n",
        "    print(edge, end='  ')\n",
        "\n",
        "    x = [solution[2 * (int(edge[0]) - 1)], solution[2 * (int(edge[1]) - 1)]]\n",
        "    y = [solution[2 * (int(edge[0]) - 1) + 1], solution[2 * (int(edge[1]) - 1) + 1]]\n",
        "\n",
        "    plt.plot(x, y)\n",
        "\n",
        "    plt.text(x[0] + 0.1, y[0] + 0.1, edge[0])\n",
        "    plt.text(x[1] + 0.1, y[1] + 0.1, edge[1])\n",
        "\n",
        "ga_instance.plot_fitness()"
      ],
      "metadata": {
        "colab": {
          "base_uri": "https://localhost:8080/",
          "height": 867
        },
        "id": "qMh8QS2pt8cD",
        "outputId": "a7199d50-9bce-4ebf-9cc9-8d4a7e3eb2d7"
      },
      "execution_count": 12,
      "outputs": [
        {
          "output_type": "stream",
          "name": "stdout",
          "text": [
            "[71 57 30 75 62 26 30 24 23 57 86 65 60 45] 0\n",
            "('1', '2')  ('1', '3')  ('2', '4')  ('2', '5')  ('3', '6')  ('3', '7')  "
          ]
        },
        {
          "output_type": "display_data",
          "data": {
            "text/plain": [
              "<Figure size 432x288 with 1 Axes>"
            ],
            "image/png": "[encoded data removed]"
          },
          "metadata": {
            "needs_background": "light"
          }
        },
        {
          "output_type": "display_data",
          "data": {
            "text/plain": [
              "<Figure size 432x288 with 1 Axes>"
            ],
            "image/png": "[encoded data removed]"
          },
          "metadata": {
            "needs_background": "light"
          }
        },
        {
          "output_type": "execute_result",
          "data": {
            "text/plain": [
              "<Figure size 432x288 with 1 Axes>"
            ],
            "image/png": "[encoded data removed]"
          },
          "metadata": {},
          "execution_count": 12
        }
      ]
    }
  ]
}