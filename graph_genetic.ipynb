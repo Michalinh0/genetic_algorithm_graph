{
  "nbformat": 4,
  "nbformat_minor": 0,
  "metadata": {
    "colab": {
      "provenance": [],
      "authorship_tag": "ABX9TyMcDLZQJwyqsgJ7HS21MCNA",
      "include_colab_link": true
    },
    "kernelspec": {
      "name": "python3",
      "display_name": "Python 3"
    },
    "language_info": {
      "name": "python"
    }
  },
  "cells": [
    {
      "cell_type": "markdown",
      "metadata": {
        "id": "view-in-github",
        "colab_type": "text"
      },
      "source": [
        "<a href=\"https://colab.research.google.com/github/Michalinh0/genetic_algorithm_graph/blob/main/graph_genetic.ipynb\" target=\"_parent\"><img src=\"https://colab.research.google.com/assets/colab-badge.svg\" alt=\"Open In Colab\"/></a>"
      ]
    },
    {
      "cell_type": "markdown",
      "source": [
        "# Set up"
      ],
      "metadata": {
        "id": "FvZ4c4vua5Cb"
      }
    },
    {
      "cell_type": "code",
      "execution_count": 31,
      "metadata": {
        "colab": {
          "base_uri": "https://localhost:8080/"
        },
        "id": "sgCWaGUYahq2",
        "outputId": "b44200d1-e5a9-4539-a4b9-79d554dad9ee"
      },
      "outputs": [
        {
          "output_type": "stream",
          "name": "stdout",
          "text": [
            "Looking in indexes: https://pypi.org/simple, https://us-python.pkg.dev/colab-wheels/public/simple/\n",
            "Requirement already satisfied: pygad in /usr/local/lib/python3.8/dist-packages (2.18.1)\n",
            "Requirement already satisfied: numpy in /usr/local/lib/python3.8/dist-packages (from pygad) (1.21.6)\n",
            "Requirement already satisfied: matplotlib in /usr/local/lib/python3.8/dist-packages (from pygad) (3.2.2)\n",
            "Requirement already satisfied: python-dateutil>=2.1 in /usr/local/lib/python3.8/dist-packages (from matplotlib->pygad) (2.8.2)\n",
            "Requirement already satisfied: cycler>=0.10 in /usr/local/lib/python3.8/dist-packages (from matplotlib->pygad) (0.11.0)\n",
            "Requirement already satisfied: kiwisolver>=1.0.1 in /usr/local/lib/python3.8/dist-packages (from matplotlib->pygad) (1.4.4)\n",
            "Requirement already satisfied: pyparsing!=2.0.4,!=2.1.2,!=2.1.6,>=2.0.1 in /usr/local/lib/python3.8/dist-packages (from matplotlib->pygad) (3.0.9)\n",
            "Requirement already satisfied: six>=1.5 in /usr/local/lib/python3.8/dist-packages (from python-dateutil>=2.1->matplotlib->pygad) (1.15.0)\n",
            "fatal: destination path 'genetic_algorithm_graph' already exists and is not an empty directory.\n"
          ]
        }
      ],
      "source": [
        "!pip install pygad\n",
        "import pygad\n",
        "!git clone https://github.com/Michalinh0/genetic_algorithm_graph.git\n",
        "import matplotlib.pyplot as plt"
      ]
    },
    {
      "cell_type": "markdown",
      "source": [
        "## Set up a graph"
      ],
      "metadata": {
        "id": "Ogek0hXOc2y6"
      }
    },
    {
      "cell_type": "code",
      "source": [
        "with open('genetic_algorithm_graph/graph.txt') as file:\n",
        "    lines = file.readlines()\n",
        "#with open('genetic_algorithm_graph/graph2.txt') as file:\n",
        "#    lines = file.readlines()\n",
        "#with open('genetic_algorithm_graph/graph3.txt') as file:\n",
        "#    lines = file.readlines()\n",
        "lines = [line.strip() for line in lines]\n",
        "print(lines)"
      ],
      "metadata": {
        "colab": {
          "base_uri": "https://localhost:8080/"
        },
        "id": "5HIt1-irb4DM",
        "outputId": "e0d2cd33-8a8c-4d28-976a-583cf182fb38"
      },
      "execution_count": 6,
      "outputs": [
        {
          "output_type": "stream",
          "name": "stdout",
          "text": [
            "['4', '1 3 1 4 2 3 2 4']\n"
          ]
        }
      ]
    },
    {
      "cell_type": "code",
      "source": [
        "vertices_count = int(lines[0])\n",
        "print(vertices_count)\n",
        "print(lines)\n",
        "edges = list()\n",
        "edges_count = int(len(lines[1]) / 2)\n",
        "for i in range(edges_count):\n",
        "  edges.append((lines[1][2*i] , lines[1][2*i + 1]))\n",
        "print(edges)"
      ],
      "metadata": {
        "colab": {
          "base_uri": "https://localhost:8080/"
        },
        "id": "c5xjyyoCdxZs",
        "outputId": "f783cde2-982b-4f71-b7aa-701e577b1c05"
      },
      "execution_count": 15,
      "outputs": [
        {
          "output_type": "stream",
          "name": "stdout",
          "text": [
            "4\n",
            "['4', ['1', '3', '1', '4', '2', '3', '2', '4']]\n",
            "[('1', '3'), ('1', '4'), ('2', '3'), ('2', '4')]\n"
          ]
        }
      ]
    },
    {
      "cell_type": "markdown",
      "source": [
        "# Fitness function"
      ],
      "metadata": {
        "id": "Hr0vLR2UfAyG"
      }
    },
    {
      "cell_type": "code",
      "source": [
        "def segment(p1 , p2 , p3):\n",
        "  if(p2[0] <= max(p1[0] , p3[0])) and (p2[0] >= min(p1[0] , p3[0])) and (p2[1] <= max(p1[1] , p3[1])) and (p2[1] >= min(p1[1] , p3[1])):\n",
        "    return True\n",
        "  return False"
      ],
      "metadata": {
        "id": "faAIK5ghlx7u"
      },
      "execution_count": 20,
      "outputs": []
    },
    {
      "cell_type": "code",
      "source": [
        "def orientation(p1 , p2 , p3):\n",
        "  value = (p2[1] - p1[1] ) * (p3[0] - p2[0]) - (p2[0] - p1[0] * p3[1] - p2[1])\n",
        "  if value > 0:\n",
        "    return 1\n",
        "  if value < 0:\n",
        "    return 2\n",
        "  return 0"
      ],
      "metadata": {
        "id": "o7FKS1BEkumt"
      },
      "execution_count": 19,
      "outputs": []
    },
    {
      "cell_type": "code",
      "source": [
        "def cross(edge1 , edge2 , vertices):\n",
        "  A = vertices[int(edge1[0]) - 1]\n",
        "  B = vertices[int(edge1[1]) - 1]\n",
        "  C = vertices[int(edge2[0]) - 1]\n",
        "  D = vertices[int(edge2[1]) - 1]\n",
        "\n",
        "  orientation1 = orientation(A,B,C)\n",
        "  orientation2 = orientation(A,B,D)\n",
        "  orientation3 = orientation(C,D,A)\n",
        "  orientation4 = orientation(C,D,B)\n",
        "\n",
        "  if orientation1 != orientation2 and orientation3 != orientation4:\n",
        "    return True\n",
        "  if orientation1 == 0 and segment(A,C,B):\n",
        "    return True\n",
        "  if orientation2 == 0 and segment(A,D,B):\n",
        "    return True\n",
        "  if orientation3 == 0 and segment(C,A,D):\n",
        "    return True\n",
        "  if orientation4 == 0 and segment(C,B,D):\n",
        "    return True\n",
        "  return False\n",
        "  "
      ],
      "metadata": {
        "id": "N8xQVqrZfsYe"
      },
      "execution_count": 28,
      "outputs": []
    },
    {
      "cell_type": "code",
      "source": [
        "def fitness(solution, solution_idx):\n",
        "  vertices = list()\n",
        "  for i in range(vertices_count):\n",
        "    vertices.append((solution[2*i] , solution[2*i+1]))\n",
        "  fitness = 2 * edges_count * (edges_count - 1)\n",
        "  for edge in edges:\n",
        "    for edge2 in edges:\n",
        "      if edge == edge2:\n",
        "        continue\n",
        "      if edge[0] == edge2[0] or edge[0] == edge2[1] or edge[1] == edge2[0] or edge[1] == edge2[1]:\n",
        "        continue\n",
        "      if cross(edge , edge2 , vertices):\n",
        "          fitness -= 1\n",
        "  return fitness\n",
        "      "
      ],
      "metadata": {
        "id": "79zGNzCGfAMg"
      },
      "execution_count": 21,
      "outputs": []
    },
    {
      "cell_type": "markdown",
      "source": [
        "# Genetic algorithm using Pygad"
      ],
      "metadata": {
        "id": "wMj8qx7Ho_4i"
      }
    },
    {
      "cell_type": "code",
      "source": [
        "fitness_function = fitness\n",
        "\n",
        "num_generations = 150\n",
        "num_parents_mating = 32\n",
        "\n",
        "sol_per_pop = 32\n",
        "num_genes = 2*vertices_count\n",
        "\n",
        "parent_selection_type = \"sss\"\n",
        "keep_parents = 1\n",
        "\n",
        "crossover_type = \"single_point\"\n",
        "\n",
        "mutation_type = \"random\"\n",
        "mutation_num_genes = 1"
      ],
      "metadata": {
        "id": "LCI4KTVsj74U"
      },
      "execution_count": 22,
      "outputs": []
    },
    {
      "cell_type": "code",
      "source": [
        "ga_instance = pygad.GA(num_generations=num_generations,\n",
        "                       num_parents_mating=num_parents_mating,\n",
        "                       fitness_func=fitness_function,\n",
        "                       sol_per_pop=sol_per_pop,\n",
        "                       num_genes=num_genes,\n",
        "                       parent_selection_type=parent_selection_type,\n",
        "                       keep_parents=keep_parents,\n",
        "                       crossover_type=crossover_type,\n",
        "                       mutation_type=mutation_type,\n",
        "                       mutation_num_genes=mutation_num_genes)\n",
        "\n",
        "ga_instance.run()"
      ],
      "metadata": {
        "id": "4_CJS4WJpMjH"
      },
      "execution_count": 33,
      "outputs": []
    },
    {
      "cell_type": "code",
      "source": [
        "solution, solution_fitness, solution_idx = ga_instance.best_solution()\n",
        "x = list()\n",
        "y = list()\n",
        "for i in range(vertices_count):\n",
        "  x.append(solution[2*i])\n",
        "  y.append(solution[2*i + 1])\n",
        "print(solution , solution_fitness)\n",
        "plt.scatter(x,y)"
      ],
      "metadata": {
        "colab": {
          "base_uri": "https://localhost:8080/",
          "height": 319
        },
        "id": "UydgPwQMpQ7a",
        "outputId": "388c0b29-cc77-4098-bca3-6ef0ec2dad8f"
      },
      "execution_count": 40,
      "outputs": [
        {
          "output_type": "stream",
          "name": "stdout",
          "text": [
            "[ 1.24793275  1.02537855 -0.619253   -0.40833118 -2.42393425  0.59752584\n",
            "  0.28872398  1.64825133] 24\n"
          ]
        },
        {
          "output_type": "execute_result",
          "data": {
            "text/plain": [
              "<matplotlib.collections.PathCollection at 0x7fd0e45dc3d0>"
            ]
          },
          "metadata": {},
          "execution_count": 40
        },
        {
          "output_type": "display_data",
          "data": {
            "text/plain": [
              "<Figure size 432x288 with 1 Axes>"
            ],
            "image/png": "[encoded data removed]"
          },
          "metadata": {
            "needs_background": "light"
          }
        }
      ]
    }
  ]
}