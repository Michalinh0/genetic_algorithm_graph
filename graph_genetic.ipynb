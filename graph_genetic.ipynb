{
  "cells": [
    {
      "cell_type": "markdown",
      "metadata": {
        "id": "FvZ4c4vua5Cb"
      },
      "source": [
        "# Set up"
      ]
    },
    {
      "cell_type": "code",
      "execution_count": 2,
      "metadata": {
        "colab": {
          "base_uri": "https://localhost:8080/"
        },
        "id": "sgCWaGUYahq2",
        "outputId": "a301a301-02cb-47ae-e3d9-d248ef45f9c5"
      },
      "outputs": [
        {
          "output_type": "stream",
          "name": "stdout",
          "text": [
            "Looking in indexes: https://pypi.org/simple, https://us-python.pkg.dev/colab-wheels/public/simple/\n",
            "Requirement already satisfied: pygad in /usr/local/lib/python3.8/dist-packages (2.18.1)\n",
            "Requirement already satisfied: matplotlib in /usr/local/lib/python3.8/dist-packages (from pygad) (3.2.2)\n",
            "Requirement already satisfied: numpy in /usr/local/lib/python3.8/dist-packages (from pygad) (1.21.6)\n",
            "Requirement already satisfied: kiwisolver>=1.0.1 in /usr/local/lib/python3.8/dist-packages (from matplotlib->pygad) (1.4.4)\n",
            "Requirement already satisfied: pyparsing!=2.0.4,!=2.1.2,!=2.1.6,>=2.0.1 in /usr/local/lib/python3.8/dist-packages (from matplotlib->pygad) (3.0.9)\n",
            "Requirement already satisfied: python-dateutil>=2.1 in /usr/local/lib/python3.8/dist-packages (from matplotlib->pygad) (2.8.2)\n",
            "Requirement already satisfied: cycler>=0.10 in /usr/local/lib/python3.8/dist-packages (from matplotlib->pygad) (0.11.0)\n",
            "Requirement already satisfied: six>=1.5 in /usr/local/lib/python3.8/dist-packages (from python-dateutil>=2.1->matplotlib->pygad) (1.15.0)\n",
            "fatal: destination path 'genetic_algorithm_graph' already exists and is not an empty directory.\n"
          ]
        }
      ],
      "source": [
        "!pip install pygad\n",
        "import pygad\n",
        "!git clone https://github.com/Michalinh0/genetic_algorithm_graph.git\n",
        "import matplotlib.pyplot as plt"
      ]
    },
    {
      "cell_type": "markdown",
      "metadata": {
        "id": "Ogek0hXOc2y6"
      },
      "source": [
        "## Set up a graph"
      ]
    },
    {
      "cell_type": "code",
      "execution_count": 6,
      "metadata": {
        "colab": {
          "base_uri": "https://localhost:8080/"
        },
        "id": "5HIt1-irb4DM",
        "outputId": "1cbc4ec1-7871-488e-cd58-280a1d717824"
      },
      "outputs": [
        {
          "output_type": "stream",
          "name": "stdout",
          "text": [
            "['4', '1 3 1 4 2 3 2 4']\n"
          ]
        }
      ],
      "source": [
        "with open('genetic_algorithm_graph/graph.txt') as file:\n",
        "    lines = file.readlines()\n",
        "#with open('genetic_algorithm_graph/graph2.txt') as file:\n",
        "#    lines = file.readlines()\n",
        "#with open('genetic_algorithm_graph/graph3.txt') as file:\n",
        "#    lines = file.readlines()\n",
        "lines = [line.strip() for line in lines]\n",
        "print(lines)"
      ]
    },
    {
      "cell_type": "code",
      "execution_count": 7,
      "metadata": {
        "colab": {
          "base_uri": "https://localhost:8080/"
        },
        "id": "c5xjyyoCdxZs",
        "outputId": "dd871933-525e-4d1e-d5b2-c25aa28d6bae"
      },
      "outputs": [
        {
          "output_type": "stream",
          "name": "stdout",
          "text": [
            "4\n",
            "['4', '1 3 1 4 2 3 2 4']\n",
            "[('1', ' '), ('3', ' '), ('1', ' '), ('4', ' '), ('2', ' '), ('3', ' '), ('2', ' ')]\n"
          ]
        }
      ],
      "source": [
        "vertices_count = int(lines[0])\n",
        "print(vertices_count)\n",
        "print(lines)\n",
        "edges = list()\n",
        "edges_count = int(len(lines[1]) / 2)\n",
        "for i in range(edges_count):\n",
        "  edges.append((lines[1][2*i] , lines[1][2*i + 1]))\n",
        "print(edges)"
      ]
    },
    {
      "cell_type": "code",
      "source": [
        "vertices_count = 0\n",
        "edges = []\n",
        "\n",
        "with open('genetic_algorithm_graph/graph3.txt') as file:\n",
        "    vertices_count = int(file.readline().strip())\n",
        "    line = file.readline().strip().split()\n",
        "    edges = [(int(line[i]), int(line[i + 1])) for i in range(0, len(line), 2)]\n",
        "\n",
        "edges_count = len(edges)\n",
        "\n",
        "print(vertices_count)\n",
        "print(edges)\n",
        "print(edges_count)"
      ],
      "metadata": {
        "colab": {
          "base_uri": "https://localhost:8080/"
        },
        "id": "HdvewX0_gOPB",
        "outputId": "74f8472f-b0fa-4d9e-f688-c583b30c0a72"
      },
      "execution_count": 128,
      "outputs": [
        {
          "output_type": "stream",
          "name": "stdout",
          "text": [
            "10\n",
            "[(1, 2), (2, 3), (3, 4), (4, 5), (5, 6), (6, 7), (7, 8), (8, 9), (9, 10), (10, 1)]\n",
            "10\n"
          ]
        }
      ]
    },
    {
      "cell_type": "markdown",
      "metadata": {
        "id": "Hr0vLR2UfAyG"
      },
      "source": [
        "# Fitness function"
      ]
    },
    {
      "cell_type": "code",
      "execution_count": 10,
      "metadata": {
        "id": "faAIK5ghlx7u"
      },
      "outputs": [],
      "source": [
        "def segment(p1 , p2 , p3):\n",
        "  if(p2[0] <= max(p1[0] , p3[0])) and (p2[0] >= min(p1[0] , p3[0])) and (p2[1] <= max(p1[1] , p3[1])) and (p2[1] >= min(p1[1] , p3[1])):\n",
        "    return True\n",
        "  return False"
      ]
    },
    {
      "cell_type": "code",
      "execution_count": 95,
      "metadata": {
        "id": "o7FKS1BEkumt"
      },
      "outputs": [],
      "source": [
        "def orientation(p1 , p2 , p3):\n",
        "  value = (p2[1] - p1[1] ) * (p3[0] - p2[0]) - (p2[0] - p1[0] * p3[1] - p2[1])\n",
        "  if value > 0:\n",
        "    return 1\n",
        "  if value < 0:\n",
        "    return 2\n",
        "  return 0"
      ]
    },
    {
      "cell_type": "code",
      "execution_count": 12,
      "metadata": {
        "id": "N8xQVqrZfsYe"
      },
      "outputs": [],
      "source": [
        "def cross(edge1 , edge2 , vertices):\n",
        "  A = vertices[int(edge1[0]) - 1]\n",
        "  B = vertices[int(edge1[1]) - 1]\n",
        "  C = vertices[int(edge2[0]) - 1]\n",
        "  D = vertices[int(edge2[1]) - 1]\n",
        "\n",
        "  orientation1 = orientation(A,B,C)\n",
        "  orientation2 = orientation(A,B,D)\n",
        "  orientation3 = orientation(C,D,A)\n",
        "  orientation4 = orientation(C,D,B)\n",
        "\n",
        "  if orientation1 != orientation2 and orientation3 != orientation4:\n",
        "    return True\n",
        "  if orientation1 == 0 and segment(A,C,B):\n",
        "    return True\n",
        "  if orientation2 == 0 and segment(A,D,B):\n",
        "    return True\n",
        "  if orientation3 == 0 and segment(C,A,D):\n",
        "    return True\n",
        "  if orientation4 == 0 and segment(C,B,D):\n",
        "    return True\n",
        "  return False\n",
        "  "
      ]
    },
    {
      "cell_type": "code",
      "execution_count": 13,
      "metadata": {
        "id": "79zGNzCGfAMg"
      },
      "outputs": [],
      "source": [
        "def fitness(solution, solution_idx):\n",
        "  vertices = list()\n",
        "\n",
        "  for i in range(vertices_count):\n",
        "    vertices.append((solution[2*i] , solution[2*i+1]))\n",
        "\n",
        "  fitness = 2 * edges_count * (edges_count - 1)\n",
        "\n",
        "  for edge in edges:\n",
        "    for edge2 in edges:\n",
        "      if edge == edge2:\n",
        "        continue\n",
        "\n",
        "      if edge[0] == edge2[0] or edge[0] == edge2[1] or edge[1] == edge2[0] or edge[1] == edge2[1]:\n",
        "        continue\n",
        "\n",
        "      if cross(edge , edge2 , vertices):\n",
        "          fitness -= 1\n",
        "          \n",
        "  return fitness\n",
        "      "
      ]
    },
    {
      "cell_type": "markdown",
      "metadata": {
        "id": "wMj8qx7Ho_4i"
      },
      "source": [
        "# Genetic algorithm using Pygad"
      ]
    },
    {
      "cell_type": "code",
      "execution_count": 159,
      "metadata": {
        "id": "LCI4KTVsj74U"
      },
      "outputs": [],
      "source": [
        "fitness_function = fitness\n",
        "\n",
        "num_generations = 150\n",
        "num_parents_mating = 32\n",
        "\n",
        "sol_per_pop = 32\n",
        "num_genes = 2*vertices_count\n",
        "\n",
        "parent_selection_type = \"sss\"\n",
        "keep_parents = 1\n",
        "\n",
        "crossover_type = \"single_point\"\n",
        "\n",
        "mutation_type = \"random\"\n",
        "mutation_num_genes = 1"
      ]
    },
    {
      "cell_type": "code",
      "execution_count": 160,
      "metadata": {
        "id": "4_CJS4WJpMjH"
      },
      "outputs": [],
      "source": [
        "ga_instance = pygad.GA(num_generations=num_generations,\n",
        "                       num_parents_mating=num_parents_mating,\n",
        "                       fitness_func=fitness_function,\n",
        "                       sol_per_pop=sol_per_pop,\n",
        "                       num_genes=num_genes,\n",
        "                       parent_selection_type=parent_selection_type,\n",
        "                       keep_parents=keep_parents,\n",
        "                       crossover_type=crossover_type,\n",
        "                       mutation_type=mutation_type,\n",
        "                       mutation_num_genes=mutation_num_genes)\n",
        "\n",
        "ga_instance.run()"
      ]
    },
    {
      "cell_type": "code",
      "execution_count": 73,
      "metadata": {
        "colab": {
          "base_uri": "https://localhost:8080/",
          "height": 334
        },
        "id": "UydgPwQMpQ7a",
        "outputId": "5336639a-b449-4020-e9b7-f1bb7c01cf9e"
      },
      "outputs": [
        {
          "output_type": "stream",
          "name": "stdout",
          "text": [
            "[ 3.14347758  2.40116854  1.79254121  1.96489205  0.38455352 -2.89326793\n",
            " -2.66229597 -4.6377913  -0.98229511 -3.52526387 -7.75783315 -1.74379323\n",
            "  1.74416413  4.17445167] 60\n"
          ]
        },
        {
          "output_type": "execute_result",
          "data": {
            "text/plain": [
              "<matplotlib.collections.PathCollection at 0x7f72b6fc36a0>"
            ]
          },
          "metadata": {},
          "execution_count": 73
        },
        {
          "output_type": "display_data",
          "data": {
            "text/plain": [
              "<Figure size 432x288 with 1 Axes>"
            ],
            "image/png": "[encoded data removed]"
          },
          "metadata": {
            "needs_background": "light"
          }
        }
      ],
      "source": [
        "solution, solution_fitness, solution_idx = ga_instance.best_solution()\n",
        "x = list()\n",
        "y = list()\n",
        "\n",
        "for i in range(vertices_count):\n",
        "  x.append(solution[2*i])\n",
        "  y.append(solution[2*i + 1])\n",
        "  \n",
        "print(solution , solution_fitness)\n",
        "plt.scatter(x, y)"
      ]
    },
    {
      "cell_type": "code",
      "source": [
        "def intersects(s0,s1):\n",
        "    dx0 = s0[1][0]-s0[0][0]\n",
        "    dx1 = s1[1][0]-s1[0][0]\n",
        "    dy0 = s0[1][1]-s0[0][1]\n",
        "    dy1 = s1[1][1]-s1[0][1]\n",
        "    p0 = dy1*(s1[1][0]-s0[0][0]) - dx1*(s1[1][1]-s0[0][1])\n",
        "    p1 = dy1*(s1[1][0]-s0[1][0]) - dx1*(s1[1][1]-s0[1][1])\n",
        "    p2 = dy0*(s0[1][0]-s1[0][0]) - dx0*(s0[1][1]-s1[0][1])\n",
        "    p3 = dy0*(s0[1][0]-s1[1][0]) - dx0*(s0[1][1]-s1[1][1])\n",
        "    return (p0*p1<=0) & (p2*p3<=0)"
      ],
      "metadata": {
        "id": "rfBPEko8oCUj"
      },
      "execution_count": 139,
      "outputs": []
    },
    {
      "cell_type": "code",
      "source": [
        "solution, solution_fitness, solution_idx = ga_instance.best_solution()\n",
        "print(solution)\n",
        "\n",
        "edge_colors = {}\n",
        "\n",
        "for edge1 in edges:\n",
        "    for edge2 in edges:\n",
        "        if edge1 == edge2 or edge1[0] in edge2 or edge1[1] in edge2:\n",
        "            continue\n",
        "\n",
        "        A = (solution[2 * (edge1[0] - 1)], solution[2 * (edge1[0] - 1) + 1])\n",
        "        B = (solution[2 * (edge1[1] - 1)], solution[2 * (edge1[1] - 1) + 1])\n",
        "\n",
        "        C = (solution[2 * (edge2[0] - 1)], solution[2 * (edge2[0] - 1) + 1])\n",
        "        D = (solution[2 * (edge2[1] - 1)], solution[2 * (edge2[1] - 1) + 1])\n",
        "\n",
        "        if edge1 in edge_colors and edge_colors[edge1] == '#f00':\n",
        "            continue\n",
        "\n",
        "        edge_colors[edge1] = '#f00' if intersects((A, B), (C, D)) else '#08f'\n",
        "\n",
        "for edge in edges:\n",
        "    print(edge, end='  ')\n",
        "\n",
        "    x = [solution[2 * (edge[0] - 1)], solution[2 * (edge[1] - 1)]]\n",
        "    y = [solution[2 * (edge[0] - 1) + 1], solution[2 * (edge[1] - 1) + 1]]\n",
        "\n",
        "    plt.plot(x, y, '-o', color=edge_colors[edge] or '#08f')\n",
        "\n",
        "    plt.text(x[0] + 0.1, y[0] + 0.1, edge[0])\n",
        "    plt.text(x[1] + 0.1, y[1] + 0.1, edge[1])"
      ],
      "metadata": {
        "colab": {
          "base_uri": "https://localhost:8080/",
          "height": 353
        },
        "id": "3D380f1cgXDe",
        "outputId": "9230b2b3-efaf-4ce9-af1c-cd560434824b"
      },
      "execution_count": 161,
      "outputs": [
        {
          "output_type": "stream",
          "name": "stdout",
          "text": [
            "[-5.52056261 -2.74444422 -5.74750172 -2.64238016 -3.07060384  0.50720241\n",
            " -1.55666201 -3.1485639  -1.37777618 -1.96117133 -0.71680267 -5.46433859\n",
            "  2.80320294 -0.02992274  2.70140789 -0.07741412  0.65434501 -0.23720518\n",
            "  2.07739839  2.53933064]\n",
            "(1, 2)  (2, 3)  (3, 4)  (4, 5)  (5, 6)  (6, 7)  (7, 8)  (8, 9)  (9, 10)  (10, 1)  "
          ]
        },
        {
          "output_type": "display_data",
          "data": {
            "text/plain": [
              "<Figure size 432x288 with 1 Axes>"
            ],
            "image/png": "[encoded data removed]"
          },
          "metadata": {
            "needs_background": "light"
          }
        }
      ]
    }
  ],
  "metadata": {
    "colab": {
      "provenance": []
    },
    "kernelspec": {
      "display_name": "Python 3",
      "name": "python3"
    },
    "language_info": {
      "name": "python"
    }
  },
  "nbformat": 4,
  "nbformat_minor": 0
}